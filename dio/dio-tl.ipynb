{
 "cells": [
  {
   "cell_type": "code",
   "execution_count": 9,
   "metadata": {},
   "outputs": [],
   "source": [
    "from problog.engine import DefaultEngine\n",
    "from problog.logic import Term\n",
    "\n",
    "p = PrologString(\"\"\"\n",
    "coin(c1). coin(c2).\n",
    "0.4::heads(C); 0.6::tails(C) :- coin(C).\n",
    "win :- heads(C).\n",
    "evidence(heads(c1), false).\n",
    "query(win).\n",
    "\"\"\")\n",
    "\n",
    "engine = DefaultEngine()\n",
    "\n",
    "db = engine.prepare(p) "
   ]
  },
  {
   "cell_type": "code",
   "execution_count": 10,
   "metadata": {},
   "outputs": [
    {
     "data": {
      "text/plain": [
       "[]"
      ]
     },
     "execution_count": 10,
     "metadata": {},
     "output_type": "execute_result"
    }
   ],
   "source": [
    "query1 = Term('win', None)   # query for 'heads(_)'\n",
    "results = engine.query(db, query1)\n",
    "results"
   ]
  },
  {
   "cell_type": "code",
   "execution_count": 27,
   "metadata": {},
   "outputs": [],
   "source": [
    "from problog.program import PrologString\n",
    "from problog.engine import DefaultEngine\n",
    "rules = open(\"/Users/srahmoun/Documents/Thesis/dio/prologkb/ruleskb\", \"r\").read()\n",
    "world = open(\"/Users/srahmoun/Documents/Thesis/dio/prologkb/worldkb\", \"r\").read()\n",
    "labels = open(\"/Users/srahmoun/Documents/Thesis/dio/prologkb/labels\", \"r\").read()\n",
    "\n",
    "db = DefaultEngine().prepare(PrologString(rules+labels+\"\\n1.0 :: obs(0,0,0,0,0).\\n+1.0 :: goal(0,0).\\n\"))\n"
   ]
  },
  {
   "cell_type": "code",
   "execution_count": 28,
   "metadata": {},
   "outputs": [],
   "source": [
    "p = db.extend()"
   ]
  },
  {
   "cell_type": "code",
   "execution_count": 29,
   "metadata": {},
   "outputs": [
    {
     "data": {
      "text/plain": [
       "{close: 0.333333333333333, crash: 0.0, maybecrash: 0.0}"
      ]
     },
     "execution_count": 29,
     "metadata": {},
     "output_type": "execute_result"
    }
   ],
   "source": [
    "from problog import get_evaluatable\n",
    "for statement in PrologString(world):\n",
    "    p += statement\n",
    "get_evaluatable().create_from(p).evaluate()"
   ]
  },
  {
   "cell_type": "code",
   "execution_count": 37,
   "metadata": {},
   "outputs": [
    {
     "ename": "ParseError",
     "evalue": "Ambiguous token role at 87:13.",
     "output_type": "error",
     "traceback": [
      "\u001b[0;31m---------------------------------------------------------------------------\u001b[0m",
      "\u001b[0;31mParseError\u001b[0m                                Traceback (most recent call last)",
      "\u001b[1;32m/Users/srahmoun/Documents/Thesis/dio/dio-tl.ipynb Cell 6'\u001b[0m in \u001b[0;36m<cell line: 5>\u001b[0;34m()\u001b[0m\n\u001b[1;32m      <a href='vscode-notebook-cell:/Users/srahmoun/Documents/Thesis/dio/dio-tl.ipynb#ch0000007?line=0'>1</a>\u001b[0m m1 \u001b[39m=\u001b[39m \u001b[39m\"\"\"\u001b[39m\n\u001b[1;32m      <a href='vscode-notebook-cell:/Users/srahmoun/Documents/Thesis/dio/dio-tl.ipynb#ch0000007?line=1'>2</a>\u001b[0m \u001b[39m0.3::a(1).\u001b[39m\n\u001b[1;32m      <a href='vscode-notebook-cell:/Users/srahmoun/Documents/Thesis/dio/dio-tl.ipynb#ch0000007?line=2'>3</a>\u001b[0m \u001b[39mquery(a(X)).\u001b[39m\n\u001b[1;32m      <a href='vscode-notebook-cell:/Users/srahmoun/Documents/Thesis/dio/dio-tl.ipynb#ch0000007?line=3'>4</a>\u001b[0m \u001b[39m\"\"\"\u001b[39m\n\u001b[0;32m----> <a href='vscode-notebook-cell:/Users/srahmoun/Documents/Thesis/dio/dio-tl.ipynb#ch0000007?line=4'>5</a>\u001b[0m db \u001b[39m=\u001b[39m DefaultEngine()\u001b[39m.\u001b[39;49mprepare(PrologString(rules\u001b[39m+\u001b[39;49mlabels\u001b[39m+\u001b[39;49mworld))\n\u001b[1;32m      <a href='vscode-notebook-cell:/Users/srahmoun/Documents/Thesis/dio/dio-tl.ipynb#ch0000007?line=5'>6</a>\u001b[0m \u001b[39mprint\u001b[39m (get_evaluatable()\u001b[39m.\u001b[39mcreate_from(db)\u001b[39m.\u001b[39mevaluate())\n\u001b[1;32m      <a href='vscode-notebook-cell:/Users/srahmoun/Documents/Thesis/dio/dio-tl.ipynb#ch0000007?line=7'>8</a>\u001b[0m m2 \u001b[39m=\u001b[39m \u001b[39m\"\"\"\u001b[39m\n\u001b[1;32m      <a href='vscode-notebook-cell:/Users/srahmoun/Documents/Thesis/dio/dio-tl.ipynb#ch0000007?line=8'>9</a>\u001b[0m \u001b[39m0.4::a(2).\u001b[39m\n\u001b[1;32m     <a href='vscode-notebook-cell:/Users/srahmoun/Documents/Thesis/dio/dio-tl.ipynb#ch0000007?line=9'>10</a>\u001b[0m \u001b[39m\"\"\"\u001b[39m\n",
      "File \u001b[0;32m~/miniforge3/envs/dioTensor/lib/python3.9/site-packages/problog/engine.py:193\u001b[0m, in \u001b[0;36mClauseDBEngine.prepare\u001b[0;34m(self, db)\u001b[0m\n\u001b[1;32m    <a href='file:///Users/srahmoun/miniforge3/envs/dioTensor/lib/python3.9/site-packages/problog/engine.py?line=182'>183</a>\u001b[0m \u001b[39mdef\u001b[39;00m \u001b[39mprepare\u001b[39m(\u001b[39mself\u001b[39m, db):\n\u001b[1;32m    <a href='file:///Users/srahmoun/miniforge3/envs/dioTensor/lib/python3.9/site-packages/problog/engine.py?line=183'>184</a>\u001b[0m     \u001b[39m\"\"\"Convert given logic program to suitable format for this engine.\u001b[39;00m\n\u001b[1;32m    <a href='file:///Users/srahmoun/miniforge3/envs/dioTensor/lib/python3.9/site-packages/problog/engine.py?line=184'>185</a>\u001b[0m \u001b[39m    Calling this method is optional, but it allows to perform multiple operations on the same \\\u001b[39;00m\n\u001b[1;32m    <a href='file:///Users/srahmoun/miniforge3/envs/dioTensor/lib/python3.9/site-packages/problog/engine.py?line=185'>186</a>\u001b[0m \u001b[39m    database.\u001b[39;00m\n\u001b[0;32m   (...)\u001b[0m\n\u001b[1;32m    <a href='file:///Users/srahmoun/miniforge3/envs/dioTensor/lib/python3.9/site-packages/problog/engine.py?line=190'>191</a>\u001b[0m \u001b[39m    :rtype: ClauseDB\u001b[39;00m\n\u001b[1;32m    <a href='file:///Users/srahmoun/miniforge3/envs/dioTensor/lib/python3.9/site-packages/problog/engine.py?line=191'>192</a>\u001b[0m \u001b[39m    \"\"\"\u001b[39;00m\n\u001b[0;32m--> <a href='file:///Users/srahmoun/miniforge3/envs/dioTensor/lib/python3.9/site-packages/problog/engine.py?line=192'>193</a>\u001b[0m     result \u001b[39m=\u001b[39m ClauseDB\u001b[39m.\u001b[39;49mcreateFrom(db, builtins\u001b[39m=\u001b[39;49m\u001b[39mself\u001b[39;49m\u001b[39m.\u001b[39;49mget_builtins())\n\u001b[1;32m    <a href='file:///Users/srahmoun/miniforge3/envs/dioTensor/lib/python3.9/site-packages/problog/engine.py?line=193'>194</a>\u001b[0m     result\u001b[39m.\u001b[39mengine \u001b[39m=\u001b[39m \u001b[39mself\u001b[39m\n\u001b[1;32m    <a href='file:///Users/srahmoun/miniforge3/envs/dioTensor/lib/python3.9/site-packages/problog/engine.py?line=194'>195</a>\u001b[0m     \u001b[39mself\u001b[39m\u001b[39m.\u001b[39m_process_directives(result)\n",
      "File \u001b[0;32m~/miniforge3/envs/dioTensor/lib/python3.9/site-packages/problog/program.py:158\u001b[0m, in \u001b[0;36mLogicProgram.createFrom\u001b[0;34m(cls, src, force_copy, **extra)\u001b[0m\n\u001b[1;32m    <a href='file:///Users/srahmoun/miniforge3/envs/dioTensor/lib/python3.9/site-packages/problog/program.py?line=155'>156</a>\u001b[0m \u001b[39mif\u001b[39;00m \u001b[39mhasattr\u001b[39m(src, \u001b[39m\"\u001b[39m\u001b[39mline_info\u001b[39m\u001b[39m\"\u001b[39m):\n\u001b[1;32m    <a href='file:///Users/srahmoun/miniforge3/envs/dioTensor/lib/python3.9/site-packages/problog/program.py?line=156'>157</a>\u001b[0m     obj\u001b[39m.\u001b[39mline_info \u001b[39m=\u001b[39m src\u001b[39m.\u001b[39mline_info[:]\n\u001b[0;32m--> <a href='file:///Users/srahmoun/miniforge3/envs/dioTensor/lib/python3.9/site-packages/problog/program.py?line=157'>158</a>\u001b[0m obj\u001b[39m.\u001b[39;49madd_all(src)\n\u001b[1;32m    <a href='file:///Users/srahmoun/miniforge3/envs/dioTensor/lib/python3.9/site-packages/problog/program.py?line=158'>159</a>\u001b[0m \u001b[39mreturn\u001b[39;00m obj\n",
      "File \u001b[0;32m~/miniforge3/envs/dioTensor/lib/python3.9/site-packages/problog/clausedb.py:785\u001b[0m, in \u001b[0;36mClauseDB.add_all\u001b[0;34m(self, program)\u001b[0m\n\u001b[1;32m    <a href='file:///Users/srahmoun/miniforge3/envs/dioTensor/lib/python3.9/site-packages/problog/clausedb.py?line=782'>783</a>\u001b[0m module_name \u001b[39m=\u001b[39m \u001b[39mNone\u001b[39;00m\n\u001b[1;32m    <a href='file:///Users/srahmoun/miniforge3/envs/dioTensor/lib/python3.9/site-packages/problog/clausedb.py?line=783'>784</a>\u001b[0m module_preds \u001b[39m=\u001b[39m \u001b[39mNone\u001b[39;00m\n\u001b[0;32m--> <a href='file:///Users/srahmoun/miniforge3/envs/dioTensor/lib/python3.9/site-packages/problog/clausedb.py?line=784'>785</a>\u001b[0m \u001b[39mfor\u001b[39;00m index, clause \u001b[39min\u001b[39;00m \u001b[39menumerate\u001b[39;49m(program):\n\u001b[1;32m    <a href='file:///Users/srahmoun/miniforge3/envs/dioTensor/lib/python3.9/site-packages/problog/clausedb.py?line=785'>786</a>\u001b[0m     \u001b[39mif\u001b[39;00m (\n\u001b[1;32m    <a href='file:///Users/srahmoun/miniforge3/envs/dioTensor/lib/python3.9/site-packages/problog/clausedb.py?line=786'>787</a>\u001b[0m         clause\u001b[39m.\u001b[39mfunctor \u001b[39m==\u001b[39m \u001b[39m\"\u001b[39m\u001b[39m:-\u001b[39m\u001b[39m\"\u001b[39m\n\u001b[1;32m    <a href='file:///Users/srahmoun/miniforge3/envs/dioTensor/lib/python3.9/site-packages/problog/clausedb.py?line=787'>788</a>\u001b[0m         \u001b[39mand\u001b[39;00m \u001b[39mhasattr\u001b[39m(clause\u001b[39m.\u001b[39margs[\u001b[39m0\u001b[39m], \u001b[39m\"\u001b[39m\u001b[39mfunctor\u001b[39m\u001b[39m\"\u001b[39m)\n\u001b[1;32m    <a href='file:///Users/srahmoun/miniforge3/envs/dioTensor/lib/python3.9/site-packages/problog/clausedb.py?line=788'>789</a>\u001b[0m         \u001b[39mand\u001b[39;00m clause\u001b[39m.\u001b[39margs[\u001b[39m0\u001b[39m]\u001b[39m.\u001b[39mfunctor \u001b[39m==\u001b[39m \u001b[39m\"\u001b[39m\u001b[39m_directive\u001b[39m\u001b[39m\"\u001b[39m\n\u001b[1;32m    <a href='file:///Users/srahmoun/miniforge3/envs/dioTensor/lib/python3.9/site-packages/problog/clausedb.py?line=789'>790</a>\u001b[0m         \u001b[39mand\u001b[39;00m clause\u001b[39m.\u001b[39margs[\u001b[39m1\u001b[39m]\u001b[39m.\u001b[39msignature \u001b[39m==\u001b[39m \u001b[39m\"\u001b[39m\u001b[39mmodule/2\u001b[39m\u001b[39m\"\u001b[39m\n\u001b[1;32m    <a href='file:///Users/srahmoun/miniforge3/envs/dioTensor/lib/python3.9/site-packages/problog/clausedb.py?line=790'>791</a>\u001b[0m     ):\n\u001b[1;32m    <a href='file:///Users/srahmoun/miniforge3/envs/dioTensor/lib/python3.9/site-packages/problog/clausedb.py?line=791'>792</a>\u001b[0m         \u001b[39mif\u001b[39;00m index \u001b[39m>\u001b[39m \u001b[39m0\u001b[39m:\n",
      "File \u001b[0;32m~/miniforge3/envs/dioTensor/lib/python3.9/site-packages/problog/program.py:277\u001b[0m, in \u001b[0;36mPrologString.__iter__\u001b[0;34m(self)\u001b[0m\n\u001b[1;32m    <a href='file:///Users/srahmoun/miniforge3/envs/dioTensor/lib/python3.9/site-packages/problog/program.py?line=274'>275</a>\u001b[0m \u001b[39mdef\u001b[39;00m \u001b[39m__iter__\u001b[39m(\u001b[39mself\u001b[39m):\n\u001b[1;32m    <a href='file:///Users/srahmoun/miniforge3/envs/dioTensor/lib/python3.9/site-packages/problog/program.py?line=275'>276</a>\u001b[0m     \u001b[39m\"\"\"Iterator for the clauses in the program.\"\"\"\u001b[39;00m\n\u001b[0;32m--> <a href='file:///Users/srahmoun/miniforge3/envs/dioTensor/lib/python3.9/site-packages/problog/program.py?line=276'>277</a>\u001b[0m     \u001b[39mreturn\u001b[39;00m \u001b[39miter\u001b[39m(\u001b[39mself\u001b[39;49m\u001b[39m.\u001b[39;49m_program())\n",
      "File \u001b[0;32m~/miniforge3/envs/dioTensor/lib/python3.9/site-packages/problog/program.py:262\u001b[0m, in \u001b[0;36mPrologString._program\u001b[0;34m(self)\u001b[0m\n\u001b[1;32m    <a href='file:///Users/srahmoun/miniforge3/envs/dioTensor/lib/python3.9/site-packages/problog/program.py?line=259'>260</a>\u001b[0m \u001b[39m\"\"\"Parsed program\"\"\"\u001b[39;00m\n\u001b[1;32m    <a href='file:///Users/srahmoun/miniforge3/envs/dioTensor/lib/python3.9/site-packages/problog/program.py?line=260'>261</a>\u001b[0m \u001b[39mif\u001b[39;00m \u001b[39mself\u001b[39m\u001b[39m.\u001b[39m__program \u001b[39mis\u001b[39;00m \u001b[39mNone\u001b[39;00m:\n\u001b[0;32m--> <a href='file:///Users/srahmoun/miniforge3/envs/dioTensor/lib/python3.9/site-packages/problog/program.py?line=261'>262</a>\u001b[0m     \u001b[39mself\u001b[39m\u001b[39m.\u001b[39m__program \u001b[39m=\u001b[39m \u001b[39mself\u001b[39;49m\u001b[39m.\u001b[39;49mparser\u001b[39m.\u001b[39;49mparseString(\u001b[39mself\u001b[39;49m\u001b[39m.\u001b[39;49m__string)\n\u001b[1;32m    <a href='file:///Users/srahmoun/miniforge3/envs/dioTensor/lib/python3.9/site-packages/problog/program.py?line=262'>263</a>\u001b[0m \u001b[39mreturn\u001b[39;00m \u001b[39mself\u001b[39m\u001b[39m.\u001b[39m__program\n",
      "File \u001b[0;32m~/miniforge3/envs/dioTensor/lib/python3.9/site-packages/problog/parser.py:1215\u001b[0m, in \u001b[0;36mPrologParser.parseString\u001b[0;34m(self, string)\u001b[0m\n\u001b[1;32m   <a href='file:///Users/srahmoun/miniforge3/envs/dioTensor/lib/python3.9/site-packages/problog/parser.py?line=1212'>1213</a>\u001b[0m \u001b[39mdef\u001b[39;00m \u001b[39mparseString\u001b[39m(\u001b[39mself\u001b[39m, string):\n\u001b[1;32m   <a href='file:///Users/srahmoun/miniforge3/envs/dioTensor/lib/python3.9/site-packages/problog/parser.py?line=1213'>1214</a>\u001b[0m     \u001b[39mreturn\u001b[39;00m \u001b[39mself\u001b[39m\u001b[39m.\u001b[39mfactory\u001b[39m.\u001b[39mbuild_program(\n\u001b[0;32m-> <a href='file:///Users/srahmoun/miniforge3/envs/dioTensor/lib/python3.9/site-packages/problog/parser.py?line=1214'>1215</a>\u001b[0m         mapl(\n\u001b[1;32m   <a href='file:///Users/srahmoun/miniforge3/envs/dioTensor/lib/python3.9/site-packages/problog/parser.py?line=1215'>1216</a>\u001b[0m             \u001b[39mlambda\u001b[39;49;00m x: \u001b[39mself\u001b[39;49m\u001b[39m.\u001b[39;49m_parse_statement(string, x),\n\u001b[1;32m   <a href='file:///Users/srahmoun/miniforge3/envs/dioTensor/lib/python3.9/site-packages/problog/parser.py?line=1216'>1217</a>\u001b[0m             \u001b[39mself\u001b[39;49m\u001b[39m.\u001b[39;49m_extract_statements(string, \u001b[39mself\u001b[39;49m\u001b[39m.\u001b[39;49m_tokenize(string)),\n\u001b[1;32m   <a href='file:///Users/srahmoun/miniforge3/envs/dioTensor/lib/python3.9/site-packages/problog/parser.py?line=1217'>1218</a>\u001b[0m         )\n\u001b[1;32m   <a href='file:///Users/srahmoun/miniforge3/envs/dioTensor/lib/python3.9/site-packages/problog/parser.py?line=1218'>1219</a>\u001b[0m     )\n",
      "File \u001b[0;32m~/miniforge3/envs/dioTensor/lib/python3.9/site-packages/problog/parser.py:1295\u001b[0m, in \u001b[0;36mmapl\u001b[0;34m(f, l)\u001b[0m\n\u001b[1;32m   <a href='file:///Users/srahmoun/miniforge3/envs/dioTensor/lib/python3.9/site-packages/problog/parser.py?line=1293'>1294</a>\u001b[0m \u001b[39mdef\u001b[39;00m \u001b[39mmapl\u001b[39m(f, l):\n\u001b[0;32m-> <a href='file:///Users/srahmoun/miniforge3/envs/dioTensor/lib/python3.9/site-packages/problog/parser.py?line=1294'>1295</a>\u001b[0m     \u001b[39mreturn\u001b[39;00m \u001b[39mlist\u001b[39;49m(\u001b[39mmap\u001b[39;49m(f, l))\n",
      "File \u001b[0;32m~/miniforge3/envs/dioTensor/lib/python3.9/site-packages/problog/parser.py:1216\u001b[0m, in \u001b[0;36mPrologParser.parseString.<locals>.<lambda>\u001b[0;34m(x)\u001b[0m\n\u001b[1;32m   <a href='file:///Users/srahmoun/miniforge3/envs/dioTensor/lib/python3.9/site-packages/problog/parser.py?line=1212'>1213</a>\u001b[0m \u001b[39mdef\u001b[39;00m \u001b[39mparseString\u001b[39m(\u001b[39mself\u001b[39m, string):\n\u001b[1;32m   <a href='file:///Users/srahmoun/miniforge3/envs/dioTensor/lib/python3.9/site-packages/problog/parser.py?line=1213'>1214</a>\u001b[0m     \u001b[39mreturn\u001b[39;00m \u001b[39mself\u001b[39m\u001b[39m.\u001b[39mfactory\u001b[39m.\u001b[39mbuild_program(\n\u001b[1;32m   <a href='file:///Users/srahmoun/miniforge3/envs/dioTensor/lib/python3.9/site-packages/problog/parser.py?line=1214'>1215</a>\u001b[0m         mapl(\n\u001b[0;32m-> <a href='file:///Users/srahmoun/miniforge3/envs/dioTensor/lib/python3.9/site-packages/problog/parser.py?line=1215'>1216</a>\u001b[0m             \u001b[39mlambda\u001b[39;00m x: \u001b[39mself\u001b[39;49m\u001b[39m.\u001b[39;49m_parse_statement(string, x),\n\u001b[1;32m   <a href='file:///Users/srahmoun/miniforge3/envs/dioTensor/lib/python3.9/site-packages/problog/parser.py?line=1216'>1217</a>\u001b[0m             \u001b[39mself\u001b[39m\u001b[39m.\u001b[39m_extract_statements(string, \u001b[39mself\u001b[39m\u001b[39m.\u001b[39m_tokenize(string)),\n\u001b[1;32m   <a href='file:///Users/srahmoun/miniforge3/envs/dioTensor/lib/python3.9/site-packages/problog/parser.py?line=1217'>1218</a>\u001b[0m         )\n\u001b[1;32m   <a href='file:///Users/srahmoun/miniforge3/envs/dioTensor/lib/python3.9/site-packages/problog/parser.py?line=1218'>1219</a>\u001b[0m     )\n",
      "File \u001b[0;32m~/miniforge3/envs/dioTensor/lib/python3.9/site-packages/problog/parser.py:1211\u001b[0m, in \u001b[0;36mPrologParser._parse_statement\u001b[0;34m(self, string, tokens)\u001b[0m\n\u001b[1;32m   <a href='file:///Users/srahmoun/miniforge3/envs/dioTensor/lib/python3.9/site-packages/problog/parser.py?line=1209'>1210</a>\u001b[0m \u001b[39mdef\u001b[39;00m \u001b[39m_parse_statement\u001b[39m(\u001b[39mself\u001b[39m, string, tokens):\n\u001b[0;32m-> <a href='file:///Users/srahmoun/miniforge3/envs/dioTensor/lib/python3.9/site-packages/problog/parser.py?line=1210'>1211</a>\u001b[0m     \u001b[39mreturn\u001b[39;00m \u001b[39mself\u001b[39;49m\u001b[39m.\u001b[39;49mcollapse(string, tokens)\n",
      "File \u001b[0;32m~/miniforge3/envs/dioTensor/lib/python3.9/site-packages/problog/parser.py:1284\u001b[0m, in \u001b[0;36mPrologParser.collapse\u001b[0;34m(self, string, tokens)\u001b[0m\n\u001b[1;32m   <a href='file:///Users/srahmoun/miniforge3/envs/dioTensor/lib/python3.9/site-packages/problog/parser.py?line=1280'>1281</a>\u001b[0m \u001b[39mif\u001b[39;00m expr_stack:\n\u001b[1;32m   <a href='file:///Users/srahmoun/miniforge3/envs/dioTensor/lib/python3.9/site-packages/problog/parser.py?line=1281'>1282</a>\u001b[0m     \u001b[39mraise\u001b[39;00m UnmatchedCharacter(string, expr_stack[\u001b[39m-\u001b[39m\u001b[39m1\u001b[39m]\u001b[39m.\u001b[39mstart\u001b[39m.\u001b[39mlocation)\n\u001b[0;32m-> <a href='file:///Users/srahmoun/miniforge3/envs/dioTensor/lib/python3.9/site-packages/problog/parser.py?line=1283'>1284</a>\u001b[0m toks \u001b[39m=\u001b[39m \u001b[39mself\u001b[39;49m\u001b[39m.\u001b[39;49mlabel_tokens(string, root_tokens)\n\u001b[1;32m   <a href='file:///Users/srahmoun/miniforge3/envs/dioTensor/lib/python3.9/site-packages/problog/parser.py?line=1284'>1285</a>\u001b[0m \u001b[39mreturn\u001b[39;00m \u001b[39mself\u001b[39m\u001b[39m.\u001b[39mfold(string, toks, \u001b[39m0\u001b[39m, \u001b[39mlen\u001b[39m(toks))\n",
      "File \u001b[0;32m~/miniforge3/envs/dioTensor/lib/python3.9/site-packages/problog/parser.py:1206\u001b[0m, in \u001b[0;36mPrologParser.label_tokens\u001b[0;34m(self, string, tokens)\u001b[0m\n\u001b[1;32m   <a href='file:///Users/srahmoun/miniforge3/envs/dioTensor/lib/python3.9/site-packages/problog/parser.py?line=1203'>1204</a>\u001b[0m     p \u001b[39m=\u001b[39m t\n\u001b[1;32m   <a href='file:///Users/srahmoun/miniforge3/envs/dioTensor/lib/python3.9/site-packages/problog/parser.py?line=1204'>1205</a>\u001b[0m     \u001b[39mif\u001b[39;00m t\u001b[39m.\u001b[39mcount_options() \u001b[39m!=\u001b[39m \u001b[39m1\u001b[39m:\n\u001b[0;32m-> <a href='file:///Users/srahmoun/miniforge3/envs/dioTensor/lib/python3.9/site-packages/problog/parser.py?line=1205'>1206</a>\u001b[0m         \u001b[39mraise\u001b[39;00m ParseError(string, \u001b[39m\"\u001b[39m\u001b[39mAmbiguous token role\u001b[39m\u001b[39m\"\u001b[39m, t\u001b[39m.\u001b[39mlocation)\n\u001b[1;32m   <a href='file:///Users/srahmoun/miniforge3/envs/dioTensor/lib/python3.9/site-packages/problog/parser.py?line=1207'>1208</a>\u001b[0m \u001b[39mreturn\u001b[39;00m tokens\n",
      "\u001b[0;31mParseError\u001b[0m: Ambiguous token role at 87:13."
     ]
    }
   ],
   "source": [
    "m1 = \"\"\"\n",
    "0.3::a(1).\n",
    "query(a(X)).\n",
    "\"\"\"\n",
    "db = DefaultEngine().prepare(PrologString(rules+labels+world))\n",
    "print (get_evaluatable().create_from(db).evaluate())\n",
    "\n",
    "m2 = \"\"\"\n",
    "0.4::a(2).\n",
    "\"\"\"\n",
    "for statement in PrologString(m2):\n",
    "    db += statement\n",
    "\n",
    "print (get_evaluatable().create_from(db).evaluate())"
   ]
  },
  {
   "cell_type": "markdown",
   "metadata": {},
   "source": []
  }
 ],
 "metadata": {
  "interpreter": {
   "hash": "25840728bbc4fd6b31bf7873636c2d637bfc288d2cb7c89ca96850b4e303735a"
  },
  "kernelspec": {
   "display_name": "Python 3.9.5 64-bit ('dioTensor': conda)",
   "name": "python3"
  },
  "language_info": {
   "codemirror_mode": {
    "name": "ipython",
    "version": 3
   },
   "file_extension": ".py",
   "mimetype": "text/x-python",
   "name": "python",
   "nbconvert_exporter": "python",
   "pygments_lexer": "ipython3",
   "version": "3.9.5"
  },
  "orig_nbformat": 4
 },
 "nbformat": 4,
 "nbformat_minor": 2
}
